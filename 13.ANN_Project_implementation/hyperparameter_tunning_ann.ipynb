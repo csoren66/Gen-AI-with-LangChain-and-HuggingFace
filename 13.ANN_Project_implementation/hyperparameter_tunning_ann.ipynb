{
  "nbformat": 4,
  "nbformat_minor": 0,
  "metadata": {
    "colab": {
      "provenance": [],
      "gpuType": "V28"
    },
    "kernelspec": {
      "name": "python3",
      "display_name": "Python 3"
    },
    "language_info": {
      "name": "python"
    },
    "accelerator": "TPU"
  },
  "cells": [
    {
      "cell_type": "markdown",
      "source": [
        "# Determining th optimal number of hidden layers and neurons for an Artificial Neural Network(ANN)"
      ],
      "metadata": {
        "id": "V1gVSwlogFya"
      }
    },
    {
      "cell_type": "code",
      "execution_count": 8,
      "metadata": {
        "id": "pOPU-iDHWSZa"
      },
      "outputs": [],
      "source": [
        "import pandas as pd\n",
        "from sklearn.model_selection import train_test_split, GridSearchCV\n",
        "from sklearn.preprocessing import StandardScaler, LabelEncoder, OneHotEncoder\n",
        "from sklearn.pipeline import Pipeline\n",
        "from scikeras.wrappers import KerasClassifier\n",
        "from tensorflow.keras.models import Sequential\n",
        "from tensorflow.keras.layers import Dense\n",
        "from tensorflow.keras.callbacks import EarlyStopping\n",
        "import pickle"
      ]
    },
    {
      "cell_type": "code",
      "source": [
        "data = pd.read_csv('/content/Churn_Modelling.csv')\n",
        "data = data.drop(['RowNumber', 'CustomerId', 'Surname'], axis=1)\n",
        "\n",
        "label_encoder_gender = LabelEncoder()\n",
        "data['Gender'] = label_encoder_gender.fit_transform(data['Gender'])\n",
        "\n",
        "onehot_encode_geo = OneHotEncoder(handle_unknown='ignore')\n",
        "geo_encoded =  onehot_encode_geo.fit_transform(data[['Geography']]).toarray()\n",
        "geo_encoded_df = pd.DataFrame(geo_encoded, columns=onehot_encode_geo.get_feature_names_out(['Geography']))\n",
        "data = data.drop(['Geography'], axis=1)\n",
        "data = pd.concat([data, geo_encoded_df], axis=1)"
      ],
      "metadata": {
        "id": "TpxB86X5YF7l"
      },
      "execution_count": 12,
      "outputs": []
    },
    {
      "cell_type": "code",
      "source": [
        "X = data.drop(['Exited'], axis=1)\n",
        "y = data['Exited']"
      ],
      "metadata": {
        "id": "1-3SFQxfbu-E"
      },
      "execution_count": 13,
      "outputs": []
    },
    {
      "cell_type": "code",
      "source": [
        "X_train, X_test, y_train, y_test = train_test_split(X, y, test_size=0.2, random_state=42)\n",
        "\n",
        "scaler = StandardScaler()\n",
        "X_train = scaler.fit_transform(X_train)\n",
        "X_test = scaler.transform(X_test)"
      ],
      "metadata": {
        "id": "WInG9W5_b1Od"
      },
      "execution_count": 14,
      "outputs": []
    },
    {
      "cell_type": "code",
      "source": [
        "# Save encoders and scaler for later use\n",
        "with open('label_encoder_gender.pkl', 'wb') as f:\n",
        "    pickle.dump(label_encoder_gender, f)\n",
        "\n",
        "with open('onehot_encode_geo.pkl', 'wb') as f:\n",
        "    pickle.dump(onehot_encode_geo, f)\n",
        "\n",
        "with open('scaler.pkl', 'wb') as f:\n",
        "    pickle.dump(scaler, f)"
      ],
      "metadata": {
        "id": "kpatPycRcl1r"
      },
      "execution_count": 15,
      "outputs": []
    },
    {
      "cell_type": "code",
      "source": [
        "## Define function to create the model and try different parameters(KerasClassifier)\n",
        "\n",
        "def create_model(neurons=32, layers=1):\n",
        "  model = Sequential()\n",
        "  model.add(Dense(neurons, activation='relu', input_shape=(X_train.shape[1],)))\n",
        "\n",
        "  for _ in range(layers-1):\n",
        "    model.add(Dense(neurons, activation='relu'))\n",
        "\n",
        "  model.add(Dense(1, activation='sigmoid'))\n",
        "  model.compile(optimizer='adam', loss='binary_crossentropy', metrics=['accuracy'])\n",
        "\n",
        "  return model"
      ],
      "metadata": {
        "id": "lrjxWzEedW6x"
      },
      "execution_count": 16,
      "outputs": []
    },
    {
      "cell_type": "code",
      "source": [
        "# Create a Keras Classifer, passing create_model as the build_fn and allowing params to be passed\n",
        "model = KerasClassifier(build_fn=create_model, epochs=50, batch_size=10, verbose=0)\n",
        "\n",
        "# Define the grid search parameters, updating the param_grid to reflect the change\n",
        "param_grid = {\n",
        "    'model__neurons': [16, 32, 64, 128], # access parameters of the model with 'model__' prefix\n",
        "    'model__layers': [1, 2], # access parameters of the model with 'model__' prefix\n",
        "    'epochs': [50, 100],\n",
        "    'batch_size': [10, 32, 64] #add batch_size to grid search\n",
        "}\n",
        "\n",
        "# Perform grid search\n",
        "grid = GridSearchCV(estimator=model, param_grid=param_grid, n_jobs=-1, cv=3)\n",
        "grid_result = grid.fit(X_train, y_train)\n",
        "\n",
        "# Print the best parameters\n",
        "print(\"Best: %f using %s\" % (grid_result.best_score_, grid_result.best_params_))"
      ],
      "metadata": {
        "id": "HVE2HaIZe6IY"
      },
      "execution_count": null,
      "outputs": []
    },
    {
      "cell_type": "code",
      "source": [],
      "metadata": {
        "id": "7Jpkk6kDfvl0"
      },
      "execution_count": null,
      "outputs": []
    }
  ]
}