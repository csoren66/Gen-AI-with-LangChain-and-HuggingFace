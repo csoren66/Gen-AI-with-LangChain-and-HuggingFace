{
  "nbformat": 4,
  "nbformat_minor": 0,
  "metadata": {
    "colab": {
      "provenance": [],
      "gpuType": "V28"
    },
    "kernelspec": {
      "name": "python3",
      "display_name": "Python 3"
    },
    "language_info": {
      "name": "python"
    },
    "accelerator": "TPU"
  },
  "cells": [
    {
      "cell_type": "code",
      "execution_count": 1,
      "metadata": {
        "id": "JTPAwFSNoX_Y"
      },
      "outputs": [],
      "source": [
        "from tensorflow.keras.preprocessing.text import one_hot"
      ]
    },
    {
      "cell_type": "code",
      "source": [
        "### sentences\n",
        "sent = ['the glass of milk',\n",
        "     'the glass of juice',\n",
        "     'the cup of tea',\n",
        "    'I am a good boy',\n",
        "     'I am a good developer',\n",
        "     'understand the meaning of words',\n",
        "     'your videos are good',]"
      ],
      "metadata": {
        "id": "gKKjgqgQokcs"
      },
      "execution_count": 2,
      "outputs": []
    },
    {
      "cell_type": "code",
      "source": [
        "sent"
      ],
      "metadata": {
        "colab": {
          "base_uri": "https://localhost:8080/"
        },
        "id": "c8JSCO4roql5",
        "outputId": "51699218-35f6-427b-dc2f-0d4033c76b9f"
      },
      "execution_count": 3,
      "outputs": [
        {
          "output_type": "execute_result",
          "data": {
            "text/plain": [
              "['the glass of milk',\n",
              " 'the glass of juice',\n",
              " 'the cup of tea',\n",
              " 'I am a good boy',\n",
              " 'I am a good developer',\n",
              " 'understand the meaning of words',\n",
              " 'your videos are good']"
            ]
          },
          "metadata": {},
          "execution_count": 3
        }
      ]
    },
    {
      "cell_type": "code",
      "source": [
        "voc_size = 10000"
      ],
      "metadata": {
        "id": "7WlXaJWlosNV"
      },
      "execution_count": 4,
      "outputs": []
    },
    {
      "cell_type": "code",
      "source": [
        "### One Hot Representation\n",
        "one_hot_repr = [one_hot(words,voc_size)for words in sent]\n",
        "print(one_hot_repr)"
      ],
      "metadata": {
        "colab": {
          "base_uri": "https://localhost:8080/"
        },
        "id": "H1SlKm3xoyJh",
        "outputId": "d4b7d976-aefe-4744-c780-9d975844cce3"
      },
      "execution_count": 6,
      "outputs": [
        {
          "output_type": "stream",
          "name": "stdout",
          "text": [
            "[[8272, 8115, 1927, 1787], [8272, 8115, 1927, 548], [8272, 5972, 1927, 3272], [1392, 8229, 3187, 9516, 3950], [1392, 8229, 3187, 9516, 5977], [3547, 8272, 8196, 1927, 8710], [4156, 7187, 8751, 9516]]\n"
          ]
        }
      ]
    },
    {
      "cell_type": "code",
      "source": [
        "### Word embedding Representation\n",
        "from tensorflow.keras.layers import Embedding\n",
        "from tensorflow.keras.utils import pad_sequences\n",
        "from tensorflow.keras.models import Sequential"
      ],
      "metadata": {
        "id": "V5e6PPi-pJLv"
      },
      "execution_count": 7,
      "outputs": []
    },
    {
      "cell_type": "code",
      "source": [
        "import numpy as np"
      ],
      "metadata": {
        "id": "9S1XBiULpn9x"
      },
      "execution_count": 8,
      "outputs": []
    },
    {
      "cell_type": "code",
      "source": [
        "sent_length = 8\n",
        "embedded_docs = pad_sequences(one_hot_repr, padding='pre', maxlen=sent_length)\n",
        "print(embedded_docs)"
      ],
      "metadata": {
        "colab": {
          "base_uri": "https://localhost:8080/"
        },
        "id": "SK1yXWPkpvG2",
        "outputId": "8f1be533-1a20-408f-cf67-65ed07c590a4"
      },
      "execution_count": 9,
      "outputs": [
        {
          "output_type": "stream",
          "name": "stdout",
          "text": [
            "[[   0    0    0    0 8272 8115 1927 1787]\n",
            " [   0    0    0    0 8272 8115 1927  548]\n",
            " [   0    0    0    0 8272 5972 1927 3272]\n",
            " [   0    0    0 1392 8229 3187 9516 3950]\n",
            " [   0    0    0 1392 8229 3187 9516 5977]\n",
            " [   0    0    0 3547 8272 8196 1927 8710]\n",
            " [   0    0    0    0 4156 7187 8751 9516]]\n"
          ]
        }
      ]
    },
    {
      "cell_type": "code",
      "source": [
        "# feature representation\n",
        "dim =10"
      ],
      "metadata": {
        "id": "GE5lApG4qHvN"
      },
      "execution_count": 10,
      "outputs": []
    },
    {
      "cell_type": "code",
      "source": [
        "model=Sequential()\n",
        "model.add(Embedding(voc_size, dim, input_length=sent_length))\n",
        "model.compile('adam','mse')"
      ],
      "metadata": {
        "id": "vWHmsUQnqOLR"
      },
      "execution_count": 11,
      "outputs": []
    },
    {
      "cell_type": "code",
      "source": [
        "model.summary()"
      ],
      "metadata": {
        "colab": {
          "base_uri": "https://localhost:8080/"
        },
        "id": "AnFNAWNLqdJZ",
        "outputId": "68e6023a-6126-43a9-a321-956afb8ce685"
      },
      "execution_count": 12,
      "outputs": [
        {
          "output_type": "stream",
          "name": "stdout",
          "text": [
            "Model: \"sequential\"\n",
            "_________________________________________________________________\n",
            " Layer (type)                Output Shape              Param #   \n",
            "=================================================================\n",
            " embedding (Embedding)       (None, 8, 10)             100000    \n",
            "                                                                 \n",
            "=================================================================\n",
            "Total params: 100000 (390.62 KB)\n",
            "Trainable params: 100000 (390.62 KB)\n",
            "Non-trainable params: 0 (0.00 Byte)\n",
            "_________________________________________________________________\n"
          ]
        }
      ]
    },
    {
      "cell_type": "code",
      "source": [
        "model.predict(embedded_docs[0])"
      ],
      "metadata": {
        "colab": {
          "base_uri": "https://localhost:8080/"
        },
        "id": "8Twg0KKMqfwK",
        "outputId": "fc2608ea-d8bf-40df-ac7c-59ac96ee679c"
      },
      "execution_count": 14,
      "outputs": [
        {
          "output_type": "stream",
          "name": "stdout",
          "text": [
            "1/1 [==============================] - 0s 39ms/step\n"
          ]
        },
        {
          "output_type": "execute_result",
          "data": {
            "text/plain": [
              "array([[-0.02289206,  0.00163875, -0.03978343,  0.00800136, -0.00142384,\n",
              "         0.03361105, -0.02664693,  0.00494026,  0.00348867, -0.03000002],\n",
              "       [-0.02289206,  0.00163875, -0.03978343,  0.00800136, -0.00142384,\n",
              "         0.03361105, -0.02664693,  0.00494026,  0.00348867, -0.03000002],\n",
              "       [-0.02289206,  0.00163875, -0.03978343,  0.00800136, -0.00142384,\n",
              "         0.03361105, -0.02664693,  0.00494026,  0.00348867, -0.03000002],\n",
              "       [-0.02289206,  0.00163875, -0.03978343,  0.00800136, -0.00142384,\n",
              "         0.03361105, -0.02664693,  0.00494026,  0.00348867, -0.03000002],\n",
              "       [-0.0391834 , -0.01554034,  0.00169679,  0.03289877,  0.03629196,\n",
              "         0.04516578,  0.00675603,  0.02441603, -0.0274558 ,  0.04468321],\n",
              "       [-0.0431464 ,  0.01733914,  0.03504554,  0.02813068, -0.00306387,\n",
              "        -0.03906639, -0.01956211, -0.03054952,  0.04285263, -0.02585361],\n",
              "       [ 0.04305379,  0.02563032,  0.00056088,  0.04757272,  0.04816006,\n",
              "         0.04118819, -0.0153432 , -0.04328331, -0.02444581,  0.03674081],\n",
              "       [ 0.04040206,  0.02980747, -0.03454772, -0.02007854, -0.02393028,\n",
              "         0.04072941,  0.03008949, -0.00686629, -0.02932045, -0.0198215 ]],\n",
              "      dtype=float32)"
            ]
          },
          "metadata": {},
          "execution_count": 14
        }
      ]
    },
    {
      "cell_type": "code",
      "source": [],
      "metadata": {
        "id": "vsG1XoTQqkCG"
      },
      "execution_count": null,
      "outputs": []
    }
  ]
}